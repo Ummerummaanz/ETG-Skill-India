{
 "cells": [
  {
   "cell_type": "code",
   "execution_count": 7,
   "id": "cfda9c03",
   "metadata": {},
   "outputs": [],
   "source": [
    "item={1001:{\"Name\":\"Unibic\", \"Price\":\"30\",\"Quantity\":\"50\",\"Exp.Date\":\"22/10/2021\",\"Category\":\"Biscuit\"},\n",
    "     1002:{\"Name\":\"Bourbon\", \"Price\":\"20\",\"Quantity\":\"60\",\"Exp.Date\":\"20/11/2021\",\"Category\":\"Biscuit\"},\n",
    "     1003:{\"Name\":\"Monaco\", \"Price\":\"50\",\"Quantity\":\"70\",\"Exp.Date\":\"22/12/2021\",\"Category\":\"Biscuit\"},\n",
    "     1004:{\"Name\":\"Oreo\", \"Price\":\"30\",\"Quantity\":\"80\",\"Exp.Date\":\"02/10/2021\",\"Category\":\"Biscuit\"},\n",
    "     1005:{\"Name\":\"Dark Fantasy\", \"Price\":\"100\",\"Quantity\":\"50\",\"Exp.Date\":\"29/11/2021\",\"Category\":\"Biscuit\"},\n",
    "     1006:{\"Name\":\"Hi-Fi\", \"Price\":\"30\",\"Quantity\":\"50\",\"Exp.Date\":\"22/09/2021\",\"Category\":\"Biscuit\"},\n",
    "     1007:{\"Name\":\"50-50\", \"Price\":\"45\",\"Quantity\":\"50\",\"Exp.Date\":\"22/10/2022\",\"Category\":\"Biscuit\"},\n",
    "     1008:{\"Name\":\"Treat\", \"Price\":\"50\",\"Quantity\":\"70\",\"Exp.Date\":\"22/12/2021\",\"Category\":\"Biscuit\"},\n",
    "     1009:{\"Name\":\"Fanta\", \"Price\":\"100\",\"Quantity\":\"50\",\"Exp.Date\":\"22/10/2022\",\"Category\":\"Drinks\"},\n",
    "     1010:{\"Name\":\"Bindu\", \"Price\":\"60\",\"Quantity\":\"50\",\"Exp.Date\":\"21/10/2022\",\"Category\":\"Drinks\"},\n",
    "     1011:{\"Name\":\"Maaza\", \"Price\":\"100\",\"Quantity\":\"50\",\"Exp.Date\":\"12/12/2022\",\"Category\":\"Drinks\"},\n",
    "     1012:{\"Name\":\"7up\", \"Price\":\"100\",\"Quantity\":\"50\",\"Exp.Date\":\"12/12/2022\",\"Category\":\"Drinks\"},\n",
    "     1013:{\"Name\":\"Sprit\", \"Price\":\"100\",\"Quantity\":\"50\",\"Exp.Date\":\"22/10/2022\",\"Category\":\"Drinks\"},\n",
    "     1014:{\"Name\":\"Slice\", \"Price\":\"100\",\"Quantity\":\"50\",\"Exp.Date\":\"22/10/2022\",\"Category\":\"Drinks\"},\n",
    "     1015:{\"Name\":\"Apple-Fizz\", \"Price\":\"100\",\"Quantity\":\"50\",\"Exp.Date\":\"22/10/2022\",\"Category\":\"Drinks\"},\n",
    "     1016:{\"Name\":\"Milkybar\", \"Price\":\"45\",\"Quantity\":\"50\",\"Exp.Date\":\"22/10/2022\",\"Category\":\"Chocolate\"},\n",
    "     1017:{\"Name\":\"Dairy Milk\", \"Price\":\"35\",\"Quantity\":\"50\",\"Exp.Date\":\"22/10/2022\",\"Category\":\"Chocolate\"},\n",
    "     1018:{\"Name\":\"5Star\", \"Price\":\"45\",\"Quantity\":\"50\",\"Exp.Date\":\"22/11/2022\",\"Category\":\"Chocolate\"},\n",
    "     1019:{\"Name\":\"Munch\", \"Price\":\"25\",\"Quantity\":\"50\",\"Exp.Date\":\"20/12/2022\",\"Category\":\"Chocolate\"},\n",
    "     1020:{\"Name\":\"Melody\", \"Price\":\"35\",\"Quantity\":\"50\",\"Exp.Date\":\"04/01/2022\",\"Category\":\"Chocolate\"},\n",
    "     1021:{\"Name\":\"Mango Bite\", \"Price\":\"50\",\"Quantity\":\"50\",\"Exp.Date\":\"06/09/2022\",\"Category\":\"Chocolate\"},\n",
    "     1022:{\"Name\":\"Kinder Joy\", \"Price\":\"45\",\"Quantity\":\"50\",\"Exp.Date\":\"01/04/2022\",\"Category\":\"Chocolate\"},\n",
    "     1023:{\"Name\":\"Lays\", \"Price\":\"70\",\"Quantity\":\"50\",\"Exp.Date\":\"02/03/2022\",\"Category\":\"Snacks\"},\n",
    "     1024:{\"Name\":\"Kurkure\", \"Price\":\"30\",\"Quantity\":\"50\",\"Exp.Date\":\"20/04/2022\",\"Category\":\"Snacks\"},\n",
    "     1025:{\"Name\":\"Bingo\", \"Price\":\"70\",\"Quantity\":\"50\",\"Exp.Date\":\"22/10/2021\",\"Category\":\"Snacks\"},\n",
    "     1026:{\"Name\":\"Rings\", \"Price\":\"90\",\"Quantity\":\"50\",\"Exp.Date\":\"09/09/2021\",\"Category\":\"Snacks\"},\n",
    "     1027:{\"Name\":\"Cheetos\", \"Price\":\"90\",\"Quantity\":\"50\",\"Exp.Date\":\"01/10/2022\",\"Category\":\"Snacks\"},\n",
    "     1028:{\"Name\":\"Yumitos\", \"Price\":\"40\",\"Quantity\":\"50\",\"Exp.Date\":\"09/10/2022\",\"Category\":\"Snacks\"},\n",
    "     1029:{\"Name\":\"Nachos\", \"Price\":\"30\",\"Quantity\":\"50\",\"Exp.Date\":\"04/10/2022\",\"Category\":\"Snacks\"},\n",
    "     1030:{\"Name\":\"Doritos\", \"Price\":\"20\",\"Quantity\":\"50\",\"Exp.Date\":\"01/09/2021\",\"Category\":\"Snacks\"},\n",
    "      \n",
    "      \n",
    "     }\n",
    "   "
   ]
  },
  {
   "cell_type": "code",
   "execution_count": 8,
   "id": "d1c90cf6",
   "metadata": {},
   "outputs": [
    {
     "data": {
      "text/plain": [
       "{1001: {'Name': 'Unibic',\n",
       "  'Price': '30',\n",
       "  'Quantity': '50',\n",
       "  'Exp.Date': '22/10/2021',\n",
       "  'Category': 'Biscuit'},\n",
       " 1002: {'Name': 'Bourbon',\n",
       "  'Price': '20',\n",
       "  'Quantity': '60',\n",
       "  'Exp.Date': '20/11/2021',\n",
       "  'Category': 'Biscuit'},\n",
       " 1003: {'Name': 'Monaco',\n",
       "  'Price': '50',\n",
       "  'Quantity': '70',\n",
       "  'Exp.Date': '22/12/2021',\n",
       "  'Category': 'Biscuit'},\n",
       " 1004: {'Name': 'Oreo',\n",
       "  'Price': '30',\n",
       "  'Quantity': '80',\n",
       "  'Exp.Date': '02/10/2021',\n",
       "  'Category': 'Biscuit'},\n",
       " 1005: {'Name': 'Dark Fantasy',\n",
       "  'Price': '100',\n",
       "  'Quantity': '50',\n",
       "  'Exp.Date': '29/11/2021',\n",
       "  'Category': 'Biscuit'},\n",
       " 1006: {'Name': 'Hi-Fi',\n",
       "  'Price': '30',\n",
       "  'Quantity': '50',\n",
       "  'Exp.Date': '22/09/2021',\n",
       "  'Category': 'Biscuit'},\n",
       " 1007: {'Name': '50-50',\n",
       "  'Price': '45',\n",
       "  'Quantity': '50',\n",
       "  'Exp.Date': '22/10/2022',\n",
       "  'Category': 'Biscuit'},\n",
       " 1008: {'Name': 'Treat',\n",
       "  'Price': '50',\n",
       "  'Quantity': '70',\n",
       "  'Exp.Date': '22/12/2021',\n",
       "  'Category': 'Biscuit'},\n",
       " 1009: {'Name': 'Fanta',\n",
       "  'Price': '100',\n",
       "  'Quantity': '50',\n",
       "  'Exp.Date': '22/10/2022',\n",
       "  'Category': 'Drinks'},\n",
       " 1010: {'Name': 'Bindu',\n",
       "  'Price': '60',\n",
       "  'Quantity': '50',\n",
       "  'Exp.Date': '21/10/2022',\n",
       "  'Category': 'Drinks'},\n",
       " 1011: {'Name': 'Maaza',\n",
       "  'Price': '100',\n",
       "  'Quantity': '50',\n",
       "  'Exp.Date': '12/12/2022',\n",
       "  'Category': 'Drinks'},\n",
       " 1012: {'Name': '7up',\n",
       "  'Price': '100',\n",
       "  'Quantity': '50',\n",
       "  'Exp.Date': '12/12/2022',\n",
       "  'Category': 'Drinks'},\n",
       " 1013: {'Name': 'Sprit',\n",
       "  'Price': '100',\n",
       "  'Quantity': '50',\n",
       "  'Exp.Date': '22/10/2022',\n",
       "  'Category': 'Drinks'},\n",
       " 1014: {'Name': 'Slice',\n",
       "  'Price': '100',\n",
       "  'Quantity': '50',\n",
       "  'Exp.Date': '22/10/2022',\n",
       "  'Category': 'Drinks'},\n",
       " 1015: {'Name': 'Apple-Fizz',\n",
       "  'Price': '100',\n",
       "  'Quantity': '50',\n",
       "  'Exp.Date': '22/10/2022',\n",
       "  'Category': 'Drinks'},\n",
       " 1016: {'Name': 'Milkybar',\n",
       "  'Price': '45',\n",
       "  'Quantity': '50',\n",
       "  'Exp.Date': '22/10/2022',\n",
       "  'Category': 'Chocolate'},\n",
       " 1017: {'Name': 'Dairy Milk',\n",
       "  'Price': '35',\n",
       "  'Quantity': '50',\n",
       "  'Exp.Date': '22/10/2022',\n",
       "  'Category': 'Chocolate'},\n",
       " 1018: {'Name': '5Star',\n",
       "  'Price': '45',\n",
       "  'Quantity': '50',\n",
       "  'Exp.Date': '22/11/2022',\n",
       "  'Category': 'Chocolate'},\n",
       " 1019: {'Name': 'Munch',\n",
       "  'Price': '25',\n",
       "  'Quantity': '50',\n",
       "  'Exp.Date': '20/12/2022',\n",
       "  'Category': 'Chocolate'},\n",
       " 1020: {'Name': 'Melody',\n",
       "  'Price': '35',\n",
       "  'Quantity': '50',\n",
       "  'Exp.Date': '04/01/2022',\n",
       "  'Category': 'Chocolate'},\n",
       " 1021: {'Name': 'Mango Bite',\n",
       "  'Price': '50',\n",
       "  'Quantity': '50',\n",
       "  'Exp.Date': '06/09/2022',\n",
       "  'Category': 'Chocolate'},\n",
       " 1022: {'Name': 'Kinder Joy',\n",
       "  'Price': '45',\n",
       "  'Quantity': '50',\n",
       "  'Exp.Date': '01/04/2022',\n",
       "  'Category': 'Chocolate'},\n",
       " 1023: {'Name': 'Lays',\n",
       "  'Price': '70',\n",
       "  'Quantity': '50',\n",
       "  'Exp.Date': '02/03/2022',\n",
       "  'Category': 'Snacks'},\n",
       " 1024: {'Name': 'Kurkure',\n",
       "  'Price': '30',\n",
       "  'Quantity': '50',\n",
       "  'Exp.Date': '20/04/2022',\n",
       "  'Category': 'Snacks'},\n",
       " 1025: {'Name': 'Bingo',\n",
       "  'Price': '70',\n",
       "  'Quantity': '50',\n",
       "  'Exp.Date': '22/10/2021',\n",
       "  'Category': 'Snacks'},\n",
       " 1026: {'Name': 'Rings',\n",
       "  'Price': '90',\n",
       "  'Quantity': '50',\n",
       "  'Exp.Date': '09/09/2021',\n",
       "  'Category': 'Snacks'},\n",
       " 1027: {'Name': 'Cheetos',\n",
       "  'Price': '90',\n",
       "  'Quantity': '50',\n",
       "  'Exp.Date': '01/10/2022',\n",
       "  'Category': 'Snacks'},\n",
       " 1028: {'Name': 'Yumitos',\n",
       "  'Price': '40',\n",
       "  'Quantity': '50',\n",
       "  'Exp.Date': '09/10/2022',\n",
       "  'Category': 'Snacks'},\n",
       " 1029: {'Name': 'Nachos',\n",
       "  'Price': '30',\n",
       "  'Quantity': '50',\n",
       "  'Exp.Date': '04/10/2022',\n",
       "  'Category': 'Snacks'},\n",
       " 1030: {'Name': 'Doritos',\n",
       "  'Price': '20',\n",
       "  'Quantity': '50',\n",
       "  'Exp.Date': '01/09/2021',\n",
       "  'Category': 'Snacks'}}"
      ]
     },
     "execution_count": 8,
     "metadata": {},
     "output_type": "execute_result"
    }
   ],
   "source": [
    "item\n"
   ]
  },
  {
   "cell_type": "code",
   "execution_count": 9,
   "id": "fd1da4e8",
   "metadata": {},
   "outputs": [
    {
     "data": {
      "text/plain": [
       "{'Name': 'Doritos',\n",
       " 'Price': '20',\n",
       " 'Quantity': '50',\n",
       " 'Exp.Date': '01/09/2021',\n",
       " 'Category': 'Snacks'}"
      ]
     },
     "execution_count": 9,
     "metadata": {},
     "output_type": "execute_result"
    }
   ],
   "source": [
    "item[1030]"
   ]
  },
  {
   "cell_type": "code",
   "execution_count": 12,
   "id": "efac4fbd",
   "metadata": {},
   "outputs": [],
   "source": [
    "import json\n",
    "j=json.dumps(item)\n"
   ]
  },
  {
   "cell_type": "code",
   "execution_count": 13,
   "id": "1fd51c3c",
   "metadata": {},
   "outputs": [
    {
     "data": {
      "text/plain": [
       "'{\"1001\": {\"Name\": \"Unibic\", \"Price\": \"30\", \"Quantity\": \"50\", \"Exp.Date\": \"22/10/2021\", \"Category\": \"Biscuit\"}, \"1002\": {\"Name\": \"Bourbon\", \"Price\": \"20\", \"Quantity\": \"60\", \"Exp.Date\": \"20/11/2021\", \"Category\": \"Biscuit\"}, \"1003\": {\"Name\": \"Monaco\", \"Price\": \"50\", \"Quantity\": \"70\", \"Exp.Date\": \"22/12/2021\", \"Category\": \"Biscuit\"}, \"1004\": {\"Name\": \"Oreo\", \"Price\": \"30\", \"Quantity\": \"80\", \"Exp.Date\": \"02/10/2021\", \"Category\": \"Biscuit\"}, \"1005\": {\"Name\": \"Dark Fantasy\", \"Price\": \"100\", \"Quantity\": \"50\", \"Exp.Date\": \"29/11/2021\", \"Category\": \"Biscuit\"}, \"1006\": {\"Name\": \"Hi-Fi\", \"Price\": \"30\", \"Quantity\": \"50\", \"Exp.Date\": \"22/09/2021\", \"Category\": \"Biscuit\"}, \"1007\": {\"Name\": \"50-50\", \"Price\": \"45\", \"Quantity\": \"50\", \"Exp.Date\": \"22/10/2022\", \"Category\": \"Biscuit\"}, \"1008\": {\"Name\": \"Treat\", \"Price\": \"50\", \"Quantity\": \"70\", \"Exp.Date\": \"22/12/2021\", \"Category\": \"Biscuit\"}, \"1009\": {\"Name\": \"Fanta\", \"Price\": \"100\", \"Quantity\": \"50\", \"Exp.Date\": \"22/10/2022\", \"Category\": \"Drinks\"}, \"1010\": {\"Name\": \"Bindu\", \"Price\": \"60\", \"Quantity\": \"50\", \"Exp.Date\": \"21/10/2022\", \"Category\": \"Drinks\"}, \"1011\": {\"Name\": \"Maaza\", \"Price\": \"100\", \"Quantity\": \"50\", \"Exp.Date\": \"12/12/2022\", \"Category\": \"Drinks\"}, \"1012\": {\"Name\": \"7up\", \"Price\": \"100\", \"Quantity\": \"50\", \"Exp.Date\": \"12/12/2022\", \"Category\": \"Drinks\"}, \"1013\": {\"Name\": \"Sprit\", \"Price\": \"100\", \"Quantity\": \"50\", \"Exp.Date\": \"22/10/2022\", \"Category\": \"Drinks\"}, \"1014\": {\"Name\": \"Slice\", \"Price\": \"100\", \"Quantity\": \"50\", \"Exp.Date\": \"22/10/2022\", \"Category\": \"Drinks\"}, \"1015\": {\"Name\": \"Apple-Fizz\", \"Price\": \"100\", \"Quantity\": \"50\", \"Exp.Date\": \"22/10/2022\", \"Category\": \"Drinks\"}, \"1016\": {\"Name\": \"Milkybar\", \"Price\": \"45\", \"Quantity\": \"50\", \"Exp.Date\": \"22/10/2022\", \"Category\": \"Chocolate\"}, \"1017\": {\"Name\": \"Dairy Milk\", \"Price\": \"35\", \"Quantity\": \"50\", \"Exp.Date\": \"22/10/2022\", \"Category\": \"Chocolate\"}, \"1018\": {\"Name\": \"5Star\", \"Price\": \"45\", \"Quantity\": \"50\", \"Exp.Date\": \"22/11/2022\", \"Category\": \"Chocolate\"}, \"1019\": {\"Name\": \"Munch\", \"Price\": \"25\", \"Quantity\": \"50\", \"Exp.Date\": \"20/12/2022\", \"Category\": \"Chocolate\"}, \"1020\": {\"Name\": \"Melody\", \"Price\": \"35\", \"Quantity\": \"50\", \"Exp.Date\": \"04/01/2022\", \"Category\": \"Chocolate\"}, \"1021\": {\"Name\": \"Mango Bite\", \"Price\": \"50\", \"Quantity\": \"50\", \"Exp.Date\": \"06/09/2022\", \"Category\": \"Chocolate\"}, \"1022\": {\"Name\": \"Kinder Joy\", \"Price\": \"45\", \"Quantity\": \"50\", \"Exp.Date\": \"01/04/2022\", \"Category\": \"Chocolate\"}, \"1023\": {\"Name\": \"Lays\", \"Price\": \"70\", \"Quantity\": \"50\", \"Exp.Date\": \"02/03/2022\", \"Category\": \"Snacks\"}, \"1024\": {\"Name\": \"Kurkure\", \"Price\": \"30\", \"Quantity\": \"50\", \"Exp.Date\": \"20/04/2022\", \"Category\": \"Snacks\"}, \"1025\": {\"Name\": \"Bingo\", \"Price\": \"70\", \"Quantity\": \"50\", \"Exp.Date\": \"22/10/2021\", \"Category\": \"Snacks\"}, \"1026\": {\"Name\": \"Rings\", \"Price\": \"90\", \"Quantity\": \"50\", \"Exp.Date\": \"09/09/2021\", \"Category\": \"Snacks\"}, \"1027\": {\"Name\": \"Cheetos\", \"Price\": \"90\", \"Quantity\": \"50\", \"Exp.Date\": \"01/10/2022\", \"Category\": \"Snacks\"}, \"1028\": {\"Name\": \"Yumitos\", \"Price\": \"40\", \"Quantity\": \"50\", \"Exp.Date\": \"09/10/2022\", \"Category\": \"Snacks\"}, \"1029\": {\"Name\": \"Nachos\", \"Price\": \"30\", \"Quantity\": \"50\", \"Exp.Date\": \"04/10/2022\", \"Category\": \"Snacks\"}, \"1030\": {\"Name\": \"Doritos\", \"Price\": \"20\", \"Quantity\": \"50\", \"Exp.Date\": \"01/09/2021\", \"Category\": \"Snacks\"}}'"
      ]
     },
     "execution_count": 13,
     "metadata": {},
     "output_type": "execute_result"
    }
   ],
   "source": [
    "j"
   ]
  },
  {
   "cell_type": "code",
   "execution_count": 14,
   "id": "c5a2351e",
   "metadata": {},
   "outputs": [
    {
     "name": "stdout",
     "output_type": "stream",
     "text": [
      "\n"
     ]
    }
   ],
   "source": [
    "fd=open(\"Item.json\",'r')\n",
    "print(fd.read())\n",
    "fd.close()"
   ]
  },
  {
   "cell_type": "code",
   "execution_count": 15,
   "id": "4cddd83b",
   "metadata": {},
   "outputs": [],
   "source": [
    "fd=open(\"Item.json\",'w')\n",
    "fd.write(j)\n",
    "fd.close()"
   ]
  },
  {
   "cell_type": "code",
   "execution_count": 16,
   "id": "39f5ac27",
   "metadata": {},
   "outputs": [],
   "source": [
    "fd = open(\"Item.json\",'r')\n",
    "txt = fd.read()\n",
    "fd.close()"
   ]
  },
  {
   "cell_type": "code",
   "execution_count": 17,
   "id": "28c17ae5",
   "metadata": {},
   "outputs": [
    {
     "data": {
      "text/plain": [
       "'{\"1001\": {\"Name\": \"Unibic\", \"Price\": \"30\", \"Quantity\": \"50\", \"Exp.Date\": \"22/10/2021\", \"Category\": \"Biscuit\"}, \"1002\": {\"Name\": \"Bourbon\", \"Price\": \"20\", \"Quantity\": \"60\", \"Exp.Date\": \"20/11/2021\", \"Category\": \"Biscuit\"}, \"1003\": {\"Name\": \"Monaco\", \"Price\": \"50\", \"Quantity\": \"70\", \"Exp.Date\": \"22/12/2021\", \"Category\": \"Biscuit\"}, \"1004\": {\"Name\": \"Oreo\", \"Price\": \"30\", \"Quantity\": \"80\", \"Exp.Date\": \"02/10/2021\", \"Category\": \"Biscuit\"}, \"1005\": {\"Name\": \"Dark Fantasy\", \"Price\": \"100\", \"Quantity\": \"50\", \"Exp.Date\": \"29/11/2021\", \"Category\": \"Biscuit\"}, \"1006\": {\"Name\": \"Hi-Fi\", \"Price\": \"30\", \"Quantity\": \"50\", \"Exp.Date\": \"22/09/2021\", \"Category\": \"Biscuit\"}, \"1007\": {\"Name\": \"50-50\", \"Price\": \"45\", \"Quantity\": \"50\", \"Exp.Date\": \"22/10/2022\", \"Category\": \"Biscuit\"}, \"1008\": {\"Name\": \"Treat\", \"Price\": \"50\", \"Quantity\": \"70\", \"Exp.Date\": \"22/12/2021\", \"Category\": \"Biscuit\"}, \"1009\": {\"Name\": \"Fanta\", \"Price\": \"100\", \"Quantity\": \"50\", \"Exp.Date\": \"22/10/2022\", \"Category\": \"Drinks\"}, \"1010\": {\"Name\": \"Bindu\", \"Price\": \"60\", \"Quantity\": \"50\", \"Exp.Date\": \"21/10/2022\", \"Category\": \"Drinks\"}, \"1011\": {\"Name\": \"Maaza\", \"Price\": \"100\", \"Quantity\": \"50\", \"Exp.Date\": \"12/12/2022\", \"Category\": \"Drinks\"}, \"1012\": {\"Name\": \"7up\", \"Price\": \"100\", \"Quantity\": \"50\", \"Exp.Date\": \"12/12/2022\", \"Category\": \"Drinks\"}, \"1013\": {\"Name\": \"Sprit\", \"Price\": \"100\", \"Quantity\": \"50\", \"Exp.Date\": \"22/10/2022\", \"Category\": \"Drinks\"}, \"1014\": {\"Name\": \"Slice\", \"Price\": \"100\", \"Quantity\": \"50\", \"Exp.Date\": \"22/10/2022\", \"Category\": \"Drinks\"}, \"1015\": {\"Name\": \"Apple-Fizz\", \"Price\": \"100\", \"Quantity\": \"50\", \"Exp.Date\": \"22/10/2022\", \"Category\": \"Drinks\"}, \"1016\": {\"Name\": \"Milkybar\", \"Price\": \"45\", \"Quantity\": \"50\", \"Exp.Date\": \"22/10/2022\", \"Category\": \"Chocolate\"}, \"1017\": {\"Name\": \"Dairy Milk\", \"Price\": \"35\", \"Quantity\": \"50\", \"Exp.Date\": \"22/10/2022\", \"Category\": \"Chocolate\"}, \"1018\": {\"Name\": \"5Star\", \"Price\": \"45\", \"Quantity\": \"50\", \"Exp.Date\": \"22/11/2022\", \"Category\": \"Chocolate\"}, \"1019\": {\"Name\": \"Munch\", \"Price\": \"25\", \"Quantity\": \"50\", \"Exp.Date\": \"20/12/2022\", \"Category\": \"Chocolate\"}, \"1020\": {\"Name\": \"Melody\", \"Price\": \"35\", \"Quantity\": \"50\", \"Exp.Date\": \"04/01/2022\", \"Category\": \"Chocolate\"}, \"1021\": {\"Name\": \"Mango Bite\", \"Price\": \"50\", \"Quantity\": \"50\", \"Exp.Date\": \"06/09/2022\", \"Category\": \"Chocolate\"}, \"1022\": {\"Name\": \"Kinder Joy\", \"Price\": \"45\", \"Quantity\": \"50\", \"Exp.Date\": \"01/04/2022\", \"Category\": \"Chocolate\"}, \"1023\": {\"Name\": \"Lays\", \"Price\": \"70\", \"Quantity\": \"50\", \"Exp.Date\": \"02/03/2022\", \"Category\": \"Snacks\"}, \"1024\": {\"Name\": \"Kurkure\", \"Price\": \"30\", \"Quantity\": \"50\", \"Exp.Date\": \"20/04/2022\", \"Category\": \"Snacks\"}, \"1025\": {\"Name\": \"Bingo\", \"Price\": \"70\", \"Quantity\": \"50\", \"Exp.Date\": \"22/10/2021\", \"Category\": \"Snacks\"}, \"1026\": {\"Name\": \"Rings\", \"Price\": \"90\", \"Quantity\": \"50\", \"Exp.Date\": \"09/09/2021\", \"Category\": \"Snacks\"}, \"1027\": {\"Name\": \"Cheetos\", \"Price\": \"90\", \"Quantity\": \"50\", \"Exp.Date\": \"01/10/2022\", \"Category\": \"Snacks\"}, \"1028\": {\"Name\": \"Yumitos\", \"Price\": \"40\", \"Quantity\": \"50\", \"Exp.Date\": \"09/10/2022\", \"Category\": \"Snacks\"}, \"1029\": {\"Name\": \"Nachos\", \"Price\": \"30\", \"Quantity\": \"50\", \"Exp.Date\": \"04/10/2022\", \"Category\": \"Snacks\"}, \"1030\": {\"Name\": \"Doritos\", \"Price\": \"20\", \"Quantity\": \"50\", \"Exp.Date\": \"01/09/2021\", \"Category\": \"Snacks\"}}'"
      ]
     },
     "execution_count": 17,
     "metadata": {},
     "output_type": "execute_result"
    }
   ],
   "source": [
    "txt"
   ]
  },
  {
   "cell_type": "code",
   "execution_count": 18,
   "id": "63660093",
   "metadata": {},
   "outputs": [],
   "source": [
    "item=json.loads(txt)"
   ]
  },
  {
   "cell_type": "code",
   "execution_count": 19,
   "id": "bebcc0f6",
   "metadata": {},
   "outputs": [
    {
     "data": {
      "text/plain": [
       "{'1001': {'Name': 'Unibic',\n",
       "  'Price': '30',\n",
       "  'Quantity': '50',\n",
       "  'Exp.Date': '22/10/2021',\n",
       "  'Category': 'Biscuit'},\n",
       " '1002': {'Name': 'Bourbon',\n",
       "  'Price': '20',\n",
       "  'Quantity': '60',\n",
       "  'Exp.Date': '20/11/2021',\n",
       "  'Category': 'Biscuit'},\n",
       " '1003': {'Name': 'Monaco',\n",
       "  'Price': '50',\n",
       "  'Quantity': '70',\n",
       "  'Exp.Date': '22/12/2021',\n",
       "  'Category': 'Biscuit'},\n",
       " '1004': {'Name': 'Oreo',\n",
       "  'Price': '30',\n",
       "  'Quantity': '80',\n",
       "  'Exp.Date': '02/10/2021',\n",
       "  'Category': 'Biscuit'},\n",
       " '1005': {'Name': 'Dark Fantasy',\n",
       "  'Price': '100',\n",
       "  'Quantity': '50',\n",
       "  'Exp.Date': '29/11/2021',\n",
       "  'Category': 'Biscuit'},\n",
       " '1006': {'Name': 'Hi-Fi',\n",
       "  'Price': '30',\n",
       "  'Quantity': '50',\n",
       "  'Exp.Date': '22/09/2021',\n",
       "  'Category': 'Biscuit'},\n",
       " '1007': {'Name': '50-50',\n",
       "  'Price': '45',\n",
       "  'Quantity': '50',\n",
       "  'Exp.Date': '22/10/2022',\n",
       "  'Category': 'Biscuit'},\n",
       " '1008': {'Name': 'Treat',\n",
       "  'Price': '50',\n",
       "  'Quantity': '70',\n",
       "  'Exp.Date': '22/12/2021',\n",
       "  'Category': 'Biscuit'},\n",
       " '1009': {'Name': 'Fanta',\n",
       "  'Price': '100',\n",
       "  'Quantity': '50',\n",
       "  'Exp.Date': '22/10/2022',\n",
       "  'Category': 'Drinks'},\n",
       " '1010': {'Name': 'Bindu',\n",
       "  'Price': '60',\n",
       "  'Quantity': '50',\n",
       "  'Exp.Date': '21/10/2022',\n",
       "  'Category': 'Drinks'},\n",
       " '1011': {'Name': 'Maaza',\n",
       "  'Price': '100',\n",
       "  'Quantity': '50',\n",
       "  'Exp.Date': '12/12/2022',\n",
       "  'Category': 'Drinks'},\n",
       " '1012': {'Name': '7up',\n",
       "  'Price': '100',\n",
       "  'Quantity': '50',\n",
       "  'Exp.Date': '12/12/2022',\n",
       "  'Category': 'Drinks'},\n",
       " '1013': {'Name': 'Sprit',\n",
       "  'Price': '100',\n",
       "  'Quantity': '50',\n",
       "  'Exp.Date': '22/10/2022',\n",
       "  'Category': 'Drinks'},\n",
       " '1014': {'Name': 'Slice',\n",
       "  'Price': '100',\n",
       "  'Quantity': '50',\n",
       "  'Exp.Date': '22/10/2022',\n",
       "  'Category': 'Drinks'},\n",
       " '1015': {'Name': 'Apple-Fizz',\n",
       "  'Price': '100',\n",
       "  'Quantity': '50',\n",
       "  'Exp.Date': '22/10/2022',\n",
       "  'Category': 'Drinks'},\n",
       " '1016': {'Name': 'Milkybar',\n",
       "  'Price': '45',\n",
       "  'Quantity': '50',\n",
       "  'Exp.Date': '22/10/2022',\n",
       "  'Category': 'Chocolate'},\n",
       " '1017': {'Name': 'Dairy Milk',\n",
       "  'Price': '35',\n",
       "  'Quantity': '50',\n",
       "  'Exp.Date': '22/10/2022',\n",
       "  'Category': 'Chocolate'},\n",
       " '1018': {'Name': '5Star',\n",
       "  'Price': '45',\n",
       "  'Quantity': '50',\n",
       "  'Exp.Date': '22/11/2022',\n",
       "  'Category': 'Chocolate'},\n",
       " '1019': {'Name': 'Munch',\n",
       "  'Price': '25',\n",
       "  'Quantity': '50',\n",
       "  'Exp.Date': '20/12/2022',\n",
       "  'Category': 'Chocolate'},\n",
       " '1020': {'Name': 'Melody',\n",
       "  'Price': '35',\n",
       "  'Quantity': '50',\n",
       "  'Exp.Date': '04/01/2022',\n",
       "  'Category': 'Chocolate'},\n",
       " '1021': {'Name': 'Mango Bite',\n",
       "  'Price': '50',\n",
       "  'Quantity': '50',\n",
       "  'Exp.Date': '06/09/2022',\n",
       "  'Category': 'Chocolate'},\n",
       " '1022': {'Name': 'Kinder Joy',\n",
       "  'Price': '45',\n",
       "  'Quantity': '50',\n",
       "  'Exp.Date': '01/04/2022',\n",
       "  'Category': 'Chocolate'},\n",
       " '1023': {'Name': 'Lays',\n",
       "  'Price': '70',\n",
       "  'Quantity': '50',\n",
       "  'Exp.Date': '02/03/2022',\n",
       "  'Category': 'Snacks'},\n",
       " '1024': {'Name': 'Kurkure',\n",
       "  'Price': '30',\n",
       "  'Quantity': '50',\n",
       "  'Exp.Date': '20/04/2022',\n",
       "  'Category': 'Snacks'},\n",
       " '1025': {'Name': 'Bingo',\n",
       "  'Price': '70',\n",
       "  'Quantity': '50',\n",
       "  'Exp.Date': '22/10/2021',\n",
       "  'Category': 'Snacks'},\n",
       " '1026': {'Name': 'Rings',\n",
       "  'Price': '90',\n",
       "  'Quantity': '50',\n",
       "  'Exp.Date': '09/09/2021',\n",
       "  'Category': 'Snacks'},\n",
       " '1027': {'Name': 'Cheetos',\n",
       "  'Price': '90',\n",
       "  'Quantity': '50',\n",
       "  'Exp.Date': '01/10/2022',\n",
       "  'Category': 'Snacks'},\n",
       " '1028': {'Name': 'Yumitos',\n",
       "  'Price': '40',\n",
       "  'Quantity': '50',\n",
       "  'Exp.Date': '09/10/2022',\n",
       "  'Category': 'Snacks'},\n",
       " '1029': {'Name': 'Nachos',\n",
       "  'Price': '30',\n",
       "  'Quantity': '50',\n",
       "  'Exp.Date': '04/10/2022',\n",
       "  'Category': 'Snacks'},\n",
       " '1030': {'Name': 'Doritos',\n",
       "  'Price': '20',\n",
       "  'Quantity': '50',\n",
       "  'Exp.Date': '01/09/2021',\n",
       "  'Category': 'Snacks'}}"
      ]
     },
     "execution_count": 19,
     "metadata": {},
     "output_type": "execute_result"
    }
   ],
   "source": [
    "item"
   ]
  },
  {
   "cell_type": "code",
   "execution_count": 28,
   "id": "910f4347",
   "metadata": {},
   "outputs": [],
   "source": [
    "fd = open(\"Item.json\",'r')\n",
    "txt = fd.read()\n",
    "fd.close()"
   ]
  },
  {
   "cell_type": "code",
   "execution_count": 31,
   "id": "f5e891ac",
   "metadata": {},
   "outputs": [
    {
     "name": "stdout",
     "output_type": "stream",
     "text": [
      "20Product ID20Name20Price\n"
     ]
    }
   ],
   "source": [
    "titleProduct = \"Product ID\"\n",
    "titleItem = \"Name\"\n",
    "titlePrice = \"Price\"\n",
    "print(\"20%s20%s20%s\"%(titleProduct,titleItem,titlePrice))\n"
   ]
  },
  {
   "cell_type": "code",
   "execution_count": 33,
   "id": "c0f9bce5",
   "metadata": {},
   "outputs": [
    {
     "name": "stdout",
     "output_type": "stream",
     "text": [
      "Product ID               Item                     Price\n",
      "-------------------------------------------------------\n",
      "1001                    Unibic                       30\n",
      "1002                    Bourbon                      20\n",
      "1003                    Monaco                       50\n",
      "1004                     Oreo                        30\n",
      "1005                 Dark Fantasy                   100\n",
      "1006                     Hi-Fi                       30\n",
      "1007                     50-50                       45\n",
      "1008                     Treat                       50\n",
      "1009                     Fanta                      100\n",
      "1010                     Bindu                       60\n",
      "1011                     Maaza                      100\n",
      "1012                      7up                       100\n",
      "1013                     Sprit                      100\n",
      "1014                     Slice                      100\n",
      "1015                  Apple-Fizz                    100\n",
      "1016                   Milkybar                      45\n",
      "1017                  Dairy Milk                     35\n",
      "1018                     5Star                       45\n",
      "1019                     Munch                       25\n",
      "1020                    Melody                       35\n",
      "1021                  Mango Bite                     50\n",
      "1022                  Kinder Joy                     45\n",
      "1023                     Lays                        70\n",
      "1024                    Kurkure                      30\n",
      "1025                     Bingo                       70\n",
      "1026                     Rings                       90\n",
      "1027                    Cheetos                      90\n",
      "1028                    Yumitos                      40\n",
      "1029                    Nachos                       30\n",
      "1030                    Doritos                      20\n"
     ]
    }
   ],
   "source": [
    "\n",
    "left_alignment=\"Product ID\"\n",
    "center_alignment=\"Item\"\n",
    "right_alignment=\"Price\"\n",
    "print(f\"{left_alignment : <20}{center_alignment : ^15}{right_alignment : >20}\")\n",
    "print(\"-------------------------------------------------------\")\n",
    "for i in item:\n",
    "    left_alignment=i\n",
    "    center_alignment=item[i][\"Name\"]\n",
    "    right_alignment=item[i][\"Price\"]\n",
    "    print(f\"{left_alignment : <20}{center_alignment : ^15}{right_alignment : >20}\")"
   ]
  },
  {
   "cell_type": "code",
   "execution_count": null,
   "id": "fbb68448",
   "metadata": {},
   "outputs": [],
   "source": []
  }
 ],
 "metadata": {
  "kernelspec": {
   "display_name": "Python 3",
   "language": "python",
   "name": "python3"
  },
  "language_info": {
   "codemirror_mode": {
    "name": "ipython",
    "version": 3
   },
   "file_extension": ".py",
   "mimetype": "text/x-python",
   "name": "python",
   "nbconvert_exporter": "python",
   "pygments_lexer": "ipython3",
   "version": "3.7.11"
  }
 },
 "nbformat": 4,
 "nbformat_minor": 5
}
