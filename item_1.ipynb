{
  "nbformat": 4,
  "nbformat_minor": 0,
  "metadata": {
    "colab": {
      "name": "item_1",
      "provenance": [],
      "collapsed_sections": []
    },
    "kernelspec": {
      "display_name": "Python 3",
      "name": "python3"
    },
    "language_info": {
      "name": "python"
    }
  },
  "cells": [
    {
      "cell_type": "code",
      "metadata": {
        "id": "E3xkum4DVvBi"
      },
      "source": [
        "     item={\"1001\":{\"Name\":\"Unibic\",\"Price\":\"30\",\"Quantity\":\"50\",\"Exp.Date\":\"22/10/2021\",\"Category\":\"Biscuit\"},\n",
        "     \"1002\":{\"Name\":\"Bourboinm\",\"Price\":\"20\",\"Quantity\":\"60\",\"Exp.Date\":\"20/11/2021\",\"Category\":\"Biscuit\"},\n",
        "     \"1003\":{\"Name\":\"Monaco\",\"Price\":\"50\",\"Quantity\":\"70\",\"Exp.Date\":\"22/12/2021\",\"Category\":\"Biscuit\"},\n",
        "     \"1004\":{\"Name\":\"Oreo\",\"Price\":\"30\",\"Quantity\":\"80\",\"Exp.Date\":\"02/10/2021\",\"Category\":\"Biscuit\"},\n",
        "     \"1005\":{\"Name\":\"Dark Fantasy\",\"Price\":\"100\",\"Quantity\":\"50\",\"Exp.Date\":\"29/11/2021\",\"Category\":\"Biscuit\"},\n",
        "     \"1006\":{\"Name\":\"Hi-Fi\",\"Price\":\"30\",\"Quantity\":\"50\",\"Exp.Date\":\"22/09/2021\",\"Category\":\"Biscuit\"},\n",
        "     \"1007\":{\"Name\":\"50-50\",\"Price\":\"45\",\"Quantity\":\"50\",\"Exp.Date\":\"22/10/2022\",\"Category\":\"Biscuit\"},\n",
        "     \"1008\":{\"Name\":\"Treat\",\"Price\":\"50\",\"Quantity\":\"70\",\"Exp.Date\":\"22/12/2021\",\"Category\":\"Biscuit\"},\n",
        "     \"1009\":{\"Name\":\"Fanta\",\"Price\":\"100\",\"Quantity\":\"50\",\"Exp.Date\":\"22/10/2022\",\"Category\":\"Drinks\"},\n",
        "     \"1010\":{\"Name\":\"Bindu\",\"Price\":\"60\",\"Quantity\":\"50\",\"Exp.Date\":\"21/10/2022\",\"Category\":\"Drinks\"},\n",
        "     \"1011\":{\"Name\":\"Maaza\",\"Price\":\"100\",\"Quantity\":\"50\",\"Exp.Date\":\"12/12/2022\",\"Category\":\"Drinks\"},\n",
        "     \"1012\":{\"Name\":\"7up\",\"Price\":\"100\",\"Quantity\":\"50\",\"Exp.Date\":\"12/12/2022\",\"Category\":\"Drinks\"},\n",
        "     \"1013\":{\"Name\":\"Sprit\",\"Price\":\"100\",\"Quantity\":\"50\",\"Exp.Date\":\"22/10/2022\",\"Category\":\"Drinks\"},\n",
        "     \"1014\":{\"Name\":\"Slice\",\"Price\":\"100\",\"Quantity\":\"50\",\"Exp.Date\":\"22/10/2022\",\"Category\":\"Drinks\"},\n",
        "     \"1015\":{\"Name\":\"Apple-Fizz\", \"Price\":\"100\",\"Quantity\":\"50\",\"Exp.Date\":\"22/10/2022\",\"Category\":\"Drinks\"},\n",
        "     \"1016\":{\"Name\":\"Milkybar\", \"Price\":\"45\",\"Quantity\":\"50\",\"Exp.Date\":\"22/10/2022\",\"Category\":\"Chocolate\"},\n",
        "     \"1017\":{\"Name\":\"Dairy Milk\", \"Price\":\"35\",\"Quantity\":\"50\",\"Exp.Date\":\"22/10/2022\",\"Category\":\"Chocolate\"},\n",
        "     \"1018\":{\"Name\":\"5Star\", \"Price\":\"45\",\"Quantity\":\"50\",\"Exp.Date\":\"22/11/2022\",\"Category\":\"Chocolate\"},\n",
        "     \"1019\":{\"Name\":\"Munch\", \"Price\":\"25\",\"Quantity\":\"50\",\"Exp.Date\":\"20/12/2022\",\"Category\":\"Chocolate\"},\n",
        "     \"1020\":{\"Name\":\"Melody\", \"Price\":\"35\",\"Quantity\":\"50\",\"Exp.Date\":\"04/01/2022\",\"Category\":\"Chocolate\"},\n",
        "     \"1021\":{\"Name\":\"Mango Bite\", \"Price\":\"50\",\"Quantity\":\"50\",\"Exp.Date\":\"06/09/2022\",\"Category\":\"Chocolate\"},\n",
        "     \"1022\":{\"Name\":\"Kinder Joy\", \"Price\":\"45\",\"Quantity\":\"50\",\"Exp.Date\":\"01/04/2022\",\"Category\":\"Chocolate\"},\n",
        "     \"1023\":{\"Name\":\"Lays\", \"Price\":\"70\",\"Quantity\":\"50\",\"Exp.Date\":\"02/03/2022\",\"Category\":\"Snacks\"},\n",
        "     \"1024\":{\"Name\":\"Kurkure\", \"Price\":\"30\",\"Quantity\":\"50\",\"Exp.Date\":\"20/04/2022\",\"Category\":\"Snacks\"},\n",
        "     \"1025\":{\"Name\":\"Bingo\", \"Price\":\"70\",\"Quantity\":\"50\",\"Exp.Date\":\"22/10/2021\",\"Category\":\"Snacks\"},\n",
        "     \"1026\":{\"Name\":\"Rings\", \"Price\":\"90\",\"Quantity\":\"50\",\"Exp.Date\":\"09/09/2021\",\"Category\":\"Snacks\"},\n",
        "     \"1027\":{\"Name\":\"Cheetos\", \"Price\":\"90\",\"Quantity\":\"50\",\"Exp.Date\":\"01/10/2022\",\"Category\":\"Snacks\"},\n",
        "     \"1028\":{\"Name\":\"Yumitos\", \"Price\":\"40\",\"Quantity\":\"50\",\"Exp.Date\":\"09/10/2022\",\"Category\":\"Snacks\"},\n",
        "     \"1029\":{\"Name\":\"Nachos\", \"Price\":\"30\",\"Quantity\":\"50\",\"Exp.Date\":\"04/10/2022\",\"Category\":\"Snacks\"},\n",
        "     \"1030\":{\"Name\":\"Doritos\", \"Price\":\"20\",\"Quantity\":\"50\",\"Exp.Date\":\"01/09/2021\",\"Category\":\"Snacks\"}}"
      ],
      "execution_count": 5,
      "outputs": []
    },
    {
      "cell_type": "markdown",
      "metadata": {
        "id": "EsFSpq7--Rmk"
      },
      "source": [
        "# New section"
      ]
    },
    {
      "cell_type": "code",
      "metadata": {
        "colab": {
          "base_uri": "https://localhost:8080/"
        },
        "id": "yNGOuJaaXJzc",
        "outputId": "587cecc4-d54d-482d-ebe2-d49e8d76fcc2"
      },
      "source": [
        "item\n"
      ],
      "execution_count": 6,
      "outputs": [
        {
          "output_type": "execute_result",
          "data": {
            "text/plain": [
              "{'1001': {'Category': 'Biscuit',\n",
              "  'Exp.Date': '22/10/2021',\n",
              "  'Name': 'Unibic',\n",
              "  'Price': '30',\n",
              "  'Quantity': '50'},\n",
              " '1002': {'Category': 'Biscuit',\n",
              "  'Exp.Date': '20/11/2021',\n",
              "  'Name': 'Bourboinm',\n",
              "  'Price': '20',\n",
              "  'Quantity': '60'},\n",
              " '1003': {'Category': 'Biscuit',\n",
              "  'Exp.Date': '22/12/2021',\n",
              "  'Name': 'Monaco',\n",
              "  'Price': '50',\n",
              "  'Quantity': '70'},\n",
              " '1004': {'Category': 'Biscuit',\n",
              "  'Exp.Date': '02/10/2021',\n",
              "  'Name': 'Oreo',\n",
              "  'Price': '30',\n",
              "  'Quantity': '80'},\n",
              " '1005': {'Category': 'Biscuit',\n",
              "  'Exp.Date': '29/11/2021',\n",
              "  'Name': 'Dark Fantasy',\n",
              "  'Price': '100',\n",
              "  'Quantity': '50'},\n",
              " '1006': {'Category': 'Biscuit',\n",
              "  'Exp.Date': '22/09/2021',\n",
              "  'Name': 'Hi-Fi',\n",
              "  'Price': '30',\n",
              "  'Quantity': '50'},\n",
              " '1007': {'Category': 'Biscuit',\n",
              "  'Exp.Date': '22/10/2022',\n",
              "  'Name': '50-50',\n",
              "  'Price': '45',\n",
              "  'Quantity': '50'},\n",
              " '1008': {'Category': 'Biscuit',\n",
              "  'Exp.Date': '22/12/2021',\n",
              "  'Name': 'Treat',\n",
              "  'Price': '50',\n",
              "  'Quantity': '70'},\n",
              " '1009': {'Category': 'Drinks',\n",
              "  'Exp.Date': '22/10/2022',\n",
              "  'Name': 'Fanta',\n",
              "  'Price': '100',\n",
              "  'Quantity': '50'},\n",
              " '1010': {'Category': 'Drinks',\n",
              "  'Exp.Date': '21/10/2022',\n",
              "  'Name': 'Bindu',\n",
              "  'Price': '60',\n",
              "  'Quantity': '50'},\n",
              " '1011': {'Category': 'Drinks',\n",
              "  'Exp.Date': '12/12/2022',\n",
              "  'Name': 'Maaza',\n",
              "  'Price': '100',\n",
              "  'Quantity': '50'},\n",
              " '1012': {'Category': 'Drinks',\n",
              "  'Exp.Date': '12/12/2022',\n",
              "  'Name': '7up',\n",
              "  'Price': '100',\n",
              "  'Quantity': '50'},\n",
              " '1013': {'Category': 'Drinks',\n",
              "  'Exp.Date': '22/10/2022',\n",
              "  'Name': 'Sprit',\n",
              "  'Price': '100',\n",
              "  'Quantity': '50'},\n",
              " '1014': {'Category': 'Drinks',\n",
              "  'Exp.Date': '22/10/2022',\n",
              "  'Name': 'Slice',\n",
              "  'Price': '100',\n",
              "  'Quantity': '50'},\n",
              " '1015': {'Category': 'Drinks',\n",
              "  'Exp.Date': '22/10/2022',\n",
              "  'Name': 'Apple-Fizz',\n",
              "  'Price': '100',\n",
              "  'Quantity': '50'},\n",
              " '1016': {'Category': 'Chocolate',\n",
              "  'Exp.Date': '22/10/2022',\n",
              "  'Name': 'Milkybar',\n",
              "  'Price': '45',\n",
              "  'Quantity': '50'},\n",
              " '1017': {'Category': 'Chocolate',\n",
              "  'Exp.Date': '22/10/2022',\n",
              "  'Name': 'Dairy Milk',\n",
              "  'Price': '35',\n",
              "  'Quantity': '50'},\n",
              " '1018': {'Category': 'Chocolate',\n",
              "  'Exp.Date': '22/11/2022',\n",
              "  'Name': '5Star',\n",
              "  'Price': '45',\n",
              "  'Quantity': '50'},\n",
              " '1019': {'Category': 'Chocolate',\n",
              "  'Exp.Date': '20/12/2022',\n",
              "  'Name': 'Munch',\n",
              "  'Price': '25',\n",
              "  'Quantity': '50'},\n",
              " '1020': {'Category': 'Chocolate',\n",
              "  'Exp.Date': '04/01/2022',\n",
              "  'Name': 'Melody',\n",
              "  'Price': '35',\n",
              "  'Quantity': '50'},\n",
              " '1021': {'Category': 'Chocolate',\n",
              "  'Exp.Date': '06/09/2022',\n",
              "  'Name': 'Mango Bite',\n",
              "  'Price': '50',\n",
              "  'Quantity': '50'},\n",
              " '1022': {'Category': 'Chocolate',\n",
              "  'Exp.Date': '01/04/2022',\n",
              "  'Name': 'Kinder Joy',\n",
              "  'Price': '45',\n",
              "  'Quantity': '50'},\n",
              " '1023': {'Category': 'Snacks',\n",
              "  'Exp.Date': '02/03/2022',\n",
              "  'Name': 'Lays',\n",
              "  'Price': '70',\n",
              "  'Quantity': '50'},\n",
              " '1024': {'Category': 'Snacks',\n",
              "  'Exp.Date': '20/04/2022',\n",
              "  'Name': 'Kurkure',\n",
              "  'Price': '30',\n",
              "  'Quantity': '50'},\n",
              " '1025': {'Category': 'Snacks',\n",
              "  'Exp.Date': '22/10/2021',\n",
              "  'Name': 'Bingo',\n",
              "  'Price': '70',\n",
              "  'Quantity': '50'},\n",
              " '1026': {'Category': 'Snacks',\n",
              "  'Exp.Date': '09/09/2021',\n",
              "  'Name': 'Rings',\n",
              "  'Price': '90',\n",
              "  'Quantity': '50'},\n",
              " '1027': {'Category': 'Snacks',\n",
              "  'Exp.Date': '01/10/2022',\n",
              "  'Name': 'Cheetos',\n",
              "  'Price': '90',\n",
              "  'Quantity': '50'},\n",
              " '1028': {'Category': 'Snacks',\n",
              "  'Exp.Date': '09/10/2022',\n",
              "  'Name': 'Yumitos',\n",
              "  'Price': '40',\n",
              "  'Quantity': '50'},\n",
              " '1029': {'Category': 'Snacks',\n",
              "  'Exp.Date': '04/10/2022',\n",
              "  'Name': 'Nachos',\n",
              "  'Price': '30',\n",
              "  'Quantity': '50'},\n",
              " '1030': {'Category': 'Snacks',\n",
              "  'Exp.Date': '01/09/2021',\n",
              "  'Name': 'Doritos',\n",
              "  'Price': '20',\n",
              "  'Quantity': '50'}}"
            ]
          },
          "metadata": {},
          "execution_count": 6
        }
      ]
    },
    {
      "cell_type": "code",
      "metadata": {
        "colab": {
          "base_uri": "https://localhost:8080/"
        },
        "id": "q60zROpWXTMB",
        "outputId": "a694734c-68f0-450c-d1e8-e247e542456e"
      },
      "source": [
        "#@title Default title text\n",
        "item[\"1001\"]"
      ],
      "execution_count": 7,
      "outputs": [
        {
          "output_type": "execute_result",
          "data": {
            "text/plain": [
              "{'Category': 'Biscuit',\n",
              " 'Exp.Date': '22/10/2021',\n",
              " 'Name': 'Unibic',\n",
              " 'Price': '30',\n",
              " 'Quantity': '50'}"
            ]
          },
          "metadata": {},
          "execution_count": 7
        }
      ]
    },
    {
      "cell_type": "code",
      "metadata": {
        "id": "iyy5c_Q03tn-"
      },
      "source": [
        "import json"
      ],
      "execution_count": null,
      "outputs": []
    },
    {
      "cell_type": "code",
      "metadata": {
        "colab": {
          "base_uri": "https://localhost:8080/",
          "height": 137
        },
        "id": "iRtKiJn_9Gzu",
        "outputId": "8abea964-6bcf-471b-8d77-5728e2db5535"
      },
      "source": [
        "import json\n",
        "js=json.dumps(item)\n",
        "js"
      ],
      "execution_count": 8,
      "outputs": [
        {
          "output_type": "execute_result",
          "data": {
            "application/vnd.google.colaboratory.intrinsic+json": {
              "type": "string"
            },
            "text/plain": [
              "'{\"1001\": {\"Name\": \"Unibic\", \"Price\": \"30\", \"Quantity\": \"50\", \"Exp.Date\": \"22/10/2021\", \"Category\": \"Biscuit\"}, \"1002\": {\"Name\": \"Bourboinm\", \"Price\": \"20\", \"Quantity\": \"60\", \"Exp.Date\": \"20/11/2021\", \"Category\": \"Biscuit\"}, \"1003\": {\"Name\": \"Monaco\", \"Price\": \"50\", \"Quantity\": \"70\", \"Exp.Date\": \"22/12/2021\", \"Category\": \"Biscuit\"}, \"1004\": {\"Name\": \"Oreo\", \"Price\": \"30\", \"Quantity\": \"80\", \"Exp.Date\": \"02/10/2021\", \"Category\": \"Biscuit\"}, \"1005\": {\"Name\": \"Dark Fantasy\", \"Price\": \"100\", \"Quantity\": \"50\", \"Exp.Date\": \"29/11/2021\", \"Category\": \"Biscuit\"}, \"1006\": {\"Name\": \"Hi-Fi\", \"Price\": \"30\", \"Quantity\": \"50\", \"Exp.Date\": \"22/09/2021\", \"Category\": \"Biscuit\"}, \"1007\": {\"Name\": \"50-50\", \"Price\": \"45\", \"Quantity\": \"50\", \"Exp.Date\": \"22/10/2022\", \"Category\": \"Biscuit\"}, \"1008\": {\"Name\": \"Treat\", \"Price\": \"50\", \"Quantity\": \"70\", \"Exp.Date\": \"22/12/2021\", \"Category\": \"Biscuit\"}, \"1009\": {\"Name\": \"Fanta\", \"Price\": \"100\", \"Quantity\": \"50\", \"Exp.Date\": \"22/10/2022\", \"Category\": \"Drinks\"}, \"1010\": {\"Name\": \"Bindu\", \"Price\": \"60\", \"Quantity\": \"50\", \"Exp.Date\": \"21/10/2022\", \"Category\": \"Drinks\"}, \"1011\": {\"Name\": \"Maaza\", \"Price\": \"100\", \"Quantity\": \"50\", \"Exp.Date\": \"12/12/2022\", \"Category\": \"Drinks\"}, \"1012\": {\"Name\": \"7up\", \"Price\": \"100\", \"Quantity\": \"50\", \"Exp.Date\": \"12/12/2022\", \"Category\": \"Drinks\"}, \"1013\": {\"Name\": \"Sprit\", \"Price\": \"100\", \"Quantity\": \"50\", \"Exp.Date\": \"22/10/2022\", \"Category\": \"Drinks\"}, \"1014\": {\"Name\": \"Slice\", \"Price\": \"100\", \"Quantity\": \"50\", \"Exp.Date\": \"22/10/2022\", \"Category\": \"Drinks\"}, \"1015\": {\"Name\": \"Apple-Fizz\", \"Price\": \"100\", \"Quantity\": \"50\", \"Exp.Date\": \"22/10/2022\", \"Category\": \"Drinks\"}, \"1016\": {\"Name\": \"Milkybar\", \"Price\": \"45\", \"Quantity\": \"50\", \"Exp.Date\": \"22/10/2022\", \"Category\": \"Chocolate\"}, \"1017\": {\"Name\": \"Dairy Milk\", \"Price\": \"35\", \"Quantity\": \"50\", \"Exp.Date\": \"22/10/2022\", \"Category\": \"Chocolate\"}, \"1018\": {\"Name\": \"5Star\", \"Price\": \"45\", \"Quantity\": \"50\", \"Exp.Date\": \"22/11/2022\", \"Category\": \"Chocolate\"}, \"1019\": {\"Name\": \"Munch\", \"Price\": \"25\", \"Quantity\": \"50\", \"Exp.Date\": \"20/12/2022\", \"Category\": \"Chocolate\"}, \"1020\": {\"Name\": \"Melody\", \"Price\": \"35\", \"Quantity\": \"50\", \"Exp.Date\": \"04/01/2022\", \"Category\": \"Chocolate\"}, \"1021\": {\"Name\": \"Mango Bite\", \"Price\": \"50\", \"Quantity\": \"50\", \"Exp.Date\": \"06/09/2022\", \"Category\": \"Chocolate\"}, \"1022\": {\"Name\": \"Kinder Joy\", \"Price\": \"45\", \"Quantity\": \"50\", \"Exp.Date\": \"01/04/2022\", \"Category\": \"Chocolate\"}, \"1023\": {\"Name\": \"Lays\", \"Price\": \"70\", \"Quantity\": \"50\", \"Exp.Date\": \"02/03/2022\", \"Category\": \"Snacks\"}, \"1024\": {\"Name\": \"Kurkure\", \"Price\": \"30\", \"Quantity\": \"50\", \"Exp.Date\": \"20/04/2022\", \"Category\": \"Snacks\"}, \"1025\": {\"Name\": \"Bingo\", \"Price\": \"70\", \"Quantity\": \"50\", \"Exp.Date\": \"22/10/2021\", \"Category\": \"Snacks\"}, \"1026\": {\"Name\": \"Rings\", \"Price\": \"90\", \"Quantity\": \"50\", \"Exp.Date\": \"09/09/2021\", \"Category\": \"Snacks\"}, \"1027\": {\"Name\": \"Cheetos\", \"Price\": \"90\", \"Quantity\": \"50\", \"Exp.Date\": \"01/10/2022\", \"Category\": \"Snacks\"}, \"1028\": {\"Name\": \"Yumitos\", \"Price\": \"40\", \"Quantity\": \"50\", \"Exp.Date\": \"09/10/2022\", \"Category\": \"Snacks\"}, \"1029\": {\"Name\": \"Nachos\", \"Price\": \"30\", \"Quantity\": \"50\", \"Exp.Date\": \"04/10/2022\", \"Category\": \"Snacks\"}, \"1030\": {\"Name\": \"Doritos\", \"Price\": \"20\", \"Quantity\": \"50\", \"Exp.Date\": \"01/09/2021\", \"Category\": \"Snacks\"}}'"
            ]
          },
          "metadata": {},
          "execution_count": 8
        }
      ]
    },
    {
      "cell_type": "code",
      "metadata": {
        "id": "1Th9EQucBDAz"
      },
      "source": [
        "fd=open(\"item.json\",'w')\n",
        "fd.write(js)\n",
        "fd.close()\n"
      ],
      "execution_count": 9,
      "outputs": []
    },
    {
      "cell_type": "code",
      "metadata": {
        "id": "V8zl4YDuC5yt"
      },
      "source": [
        "fd=open(\"item.json\",'r')\n",
        "i=fd.read()\n",
        "fd.close()"
      ],
      "execution_count": 10,
      "outputs": []
    },
    {
      "cell_type": "code",
      "metadata": {
        "id": "vEON6JJvatWP"
      },
      "source": [
        "item = json.loads(i)"
      ],
      "execution_count": 11,
      "outputs": []
    },
    {
      "cell_type": "code",
      "metadata": {
        "colab": {
          "base_uri": "https://localhost:8080/"
        },
        "id": "jmiXTFn9bQSD",
        "outputId": "a87675f7-6849-4645-c5b9-1bfde2f6c7a6"
      },
      "source": [
        "\n",
        "left_alignment=\"Product ID\"\n",
        "center_alignment=\"Item\"\n",
        "right_alignment=\"Price\"\n",
        "print(f\"{left_alignment : <20}{center_alignment : ^15}{right_alignment : >20}\")\n",
        "print(\"-------------------------------------------------------\")\n",
        "for i in item:\n",
        "    left_alignment=i\n",
        "    center_alignment=item[i][\"Name\"]\n",
        "    right_alignment=item[i][\"Price\"]\n",
        "    print(f\"{left_alignment : <20}{center_alignment : ^15}{right_alignment : >20}\")"
      ],
      "execution_count": 14,
      "outputs": [
        {
          "output_type": "stream",
          "name": "stdout",
          "text": [
            "Product ID               Item                     Price\n",
            "-------------------------------------------------------\n",
            "1001                    Unibic                       30\n",
            "1002                   Bourboinm                     20\n",
            "1003                    Monaco                       50\n",
            "1004                     Oreo                        30\n",
            "1005                 Dark Fantasy                   100\n",
            "1006                     Hi-Fi                       30\n",
            "1007                     50-50                       45\n",
            "1008                     Treat                       50\n",
            "1009                     Fanta                      100\n",
            "1010                     Bindu                       60\n",
            "1011                     Maaza                      100\n",
            "1012                      7up                       100\n",
            "1013                     Sprit                      100\n",
            "1014                     Slice                      100\n",
            "1015                  Apple-Fizz                    100\n",
            "1016                   Milkybar                      45\n",
            "1017                  Dairy Milk                     35\n",
            "1018                     5Star                       45\n",
            "1019                     Munch                       25\n",
            "1020                    Melody                       35\n",
            "1021                  Mango Bite                     50\n",
            "1022                  Kinder Joy                     45\n",
            "1023                     Lays                        70\n",
            "1024                    Kurkure                      30\n",
            "1025                     Bingo                       70\n",
            "1026                     Rings                       90\n",
            "1027                    Cheetos                      90\n",
            "1028                    Yumitos                      40\n",
            "1029                    Nachos                       30\n",
            "1030                    Doritos                      20\n"
          ]
        }
      ]
    },
    {
      "cell_type": "code",
      "metadata": {
        "colab": {
          "base_uri": "https://localhost:8080/"
        },
        "id": "qOhFAq0Ubk3S",
        "outputId": "965c469b-1a99-4efb-c717-3461eaf59319"
      },
      "source": [
        "import random\n",
        "cart={}\n",
        "Buy=\"Y\"\n",
        "while(Buy==\"Y\"):\n",
        "    product=input(\"Enter Product ID:  \")\n",
        "    if product in item:\n",
        "        print(\"Product Available\")\n",
        "        quantity=input(\"Enter Product Quantity:  \")\n",
        "        if (int(quantity)<=int(item[i][\"Quantity\"])):\n",
        "            print(\"Stock Available\")\n",
        "            print(\"Item added to cart\")\n",
        "            new_quantity=int(item[i][\"Quantity\"])-int(quantity)\n",
        "            item[i][\"Quantity\"]=str(new_quantity)\n",
        "            total_price=int(item[i][\"Price\"])*int(quantity)\n",
        "            val=str(random.randint(1000,9999))\n",
        "            cart[val]={}\n",
        "            cart[val][\"Product ID\"]=product\n",
        "            cart[val][\"Item\"]=item[product][\"Name\"]\n",
        "            cart[val][\"Price\"]=item[product][\"Price\"]\n",
        "            cart[val][\"Quantity\"]=quantity\n",
        "            cart[val][\"Total Price\"]=str(total_price)\n",
        "        else:\n",
        "            print(\"Sorry only \"+item[i][\"Quantity\"]+\" stocks left\")         \n",
        "    else:\n",
        "        print(\"Product Not Available\")\n",
        "    Buy=input(\"Do you want to continue shopping?   Y or N   \")"
      ],
      "execution_count": 19,
      "outputs": [
        {
          "name": "stdout",
          "output_type": "stream",
          "text": [
            "Enter Product ID:  1001\n",
            "Product Available\n",
            "Enter Product Quantity:  12\n",
            "Stock Available\n",
            "Item added to cart\n",
            "Do you want to continue shopping?   Y or N   Y\n",
            "Enter Product ID:  1030\n",
            "Product Available\n",
            "Enter Product Quantity:  58\n",
            "Sorry only 14 stocks left\n",
            "Do you want to continue shopping?   Y or N   N\n"
          ]
        }
      ]
    },
    {
      "cell_type": "code",
      "metadata": {
        "colab": {
          "base_uri": "https://localhost:8080/"
        },
        "id": "exxwKt4Qcnow",
        "outputId": "a801a8b0-5f45-4262-fc52-90b1981552a7"
      },
      "source": [
        "cart\n"
      ],
      "execution_count": 20,
      "outputs": [
        {
          "output_type": "execute_result",
          "data": {
            "text/plain": [
              "{'2607': {'Item': 'Unibic',\n",
              "  'Price': '30',\n",
              "  'Product ID': '1001',\n",
              "  'Quantity': '12',\n",
              "  'Total Price': '240'}}"
            ]
          },
          "metadata": {},
          "execution_count": 20
        }
      ]
    },
    {
      "cell_type": "code",
      "metadata": {
        "colab": {
          "base_uri": "https://localhost:8080/"
        },
        "id": "RlFS7Ovsctuw",
        "outputId": "0804f60e-4143-48b0-89f3-12c03669adf1"
      },
      "source": [
        "total_price=0\n",
        "\n",
        "for i in cart:\n",
        "    total_price=total_price+int(cart[i][\"Total Price\"])\n",
        "import time\n",
        "name=input(\"Enter Your Name:  \")\n",
        "time=time.ctime()\n",
        "print(\"Please Wait Creating Bill\")\n",
        "bill={}\n",
        "bill[\"Name\"]=name\n",
        "bill[\"Time\"]=time\n",
        "bill[\"Total Amount\"]=str(total_price)\n",
        "print(\"Name of Customer: \" +bill[\"Name\"])\n",
        "print(\"Time of Purchase: \" +bill[\"Time\"])\n",
        "print(\"Total Billing Amount: \" + bill[\"Total Amount\"])\n",
        "print(\"Thank you \")\n",
        "print(\"Visit Again\")"
      ],
      "execution_count": 28,
      "outputs": [
        {
          "output_type": "stream",
          "name": "stdout",
          "text": [
            "Enter Your Name:  Ahaan\n",
            "Please Wait Creating Bill\n",
            "Name of Customer: Ahaan\n",
            "Time of Purchase: Sun Sep  5 15:03:30 2021\n",
            "Total Billing Amount: 240\n",
            "Thank you \n",
            "Visit Again\n"
          ]
        }
      ]
    },
    {
      "cell_type": "code",
      "metadata": {
        "colab": {
          "base_uri": "https://localhost:8080/"
        },
        "id": "e58JCGyYjdqm",
        "outputId": "7f849778-6d8b-44ec-e693-16e01abae487"
      },
      "source": [
        "prod_id = str(input(\"Enter product id:\"))\n",
        "name = str(input(\"Enter name:\"))\n",
        "pr = int(input(\"Enter price:\"))\n",
        "qn = int(input(\"Enter quantity:\"))\n",
        "cat=str(input(\"Enter Category\"))\n",
        "\n",
        "item[prod_id] = {'Name': name, 'Price': pr, 'Quantity': qn ,'Category':cat}\n",
        "\n",
        "js3 = json.dumps(item)\n",
        "\n",
        "fd3= open(\"item.json\",'w')\n",
        "fd3.write(js)\n",
        "fd3.close()"
      ],
      "execution_count": 42,
      "outputs": [
        {
          "name": "stdout",
          "output_type": "stream",
          "text": [
            "Enter product id:1032\n",
            "Enter name:coco cola\n",
            "Enter price:30\n",
            "Enter quantity:20\n",
            "Enter CategoryDrinks\n"
          ]
        }
      ]
    },
    {
      "cell_type": "code",
      "metadata": {
        "colab": {
          "base_uri": "https://localhost:8080/"
        },
        "id": "wUyEEZkHj7Qm",
        "outputId": "015e940e-b7f6-4527-ef8f-f324d214af11"
      },
      "source": [
        "item"
      ],
      "execution_count": 43,
      "outputs": [
        {
          "output_type": "execute_result",
          "data": {
            "text/plain": [
              "{'1001': {'Category': 'Biscuit',\n",
              "  'Exp.Date': '22/10/2021',\n",
              "  'Name': 'Unibic',\n",
              "  'Price': '30',\n",
              "  'Quantity': '50'},\n",
              " '1002': {'Category': 'Biscuit',\n",
              "  'Exp.Date': '20/11/2021',\n",
              "  'Name': 'Bourboinm',\n",
              "  'Price': '20',\n",
              "  'Quantity': '60'},\n",
              " '1003': {'Category': 'Biscuit',\n",
              "  'Exp.Date': '22/12/2021',\n",
              "  'Name': 'Monaco',\n",
              "  'Price': '50',\n",
              "  'Quantity': '70'},\n",
              " '1004': {'Category': 'Biscuit',\n",
              "  'Exp.Date': '02/10/2021',\n",
              "  'Name': 'Oreo',\n",
              "  'Price': '30',\n",
              "  'Quantity': '80'},\n",
              " '1005': {'Category': 'Biscuit',\n",
              "  'Exp.Date': '29/11/2021',\n",
              "  'Name': 'Dark Fantasy',\n",
              "  'Price': '100',\n",
              "  'Quantity': '50'},\n",
              " '1006': {'Category': 'Biscuit',\n",
              "  'Exp.Date': '22/09/2021',\n",
              "  'Name': 'Hi-Fi',\n",
              "  'Price': '30',\n",
              "  'Quantity': '50'},\n",
              " '1007': {'Category': 'Biscuit',\n",
              "  'Exp.Date': '22/10/2022',\n",
              "  'Name': '50-50',\n",
              "  'Price': '45',\n",
              "  'Quantity': '50'},\n",
              " '1008': {'Category': 'Biscuit',\n",
              "  'Exp.Date': '22/12/2021',\n",
              "  'Name': 'Treat',\n",
              "  'Price': '50',\n",
              "  'Quantity': '70'},\n",
              " '1009': {'Category': 'Drinks',\n",
              "  'Exp.Date': '22/10/2022',\n",
              "  'Name': 'Fanta',\n",
              "  'Price': '100',\n",
              "  'Quantity': '50'},\n",
              " '1010': {'Category': 'Drinks',\n",
              "  'Exp.Date': '21/10/2022',\n",
              "  'Name': 'Bindu',\n",
              "  'Price': '60',\n",
              "  'Quantity': '50'},\n",
              " '1011': {'Category': 'Drinks',\n",
              "  'Exp.Date': '12/12/2022',\n",
              "  'Name': 'Maaza',\n",
              "  'Price': '100',\n",
              "  'Quantity': '50'},\n",
              " '1012': {'Category': 'Drinks',\n",
              "  'Exp.Date': '12/12/2022',\n",
              "  'Name': '7up',\n",
              "  'Price': '100',\n",
              "  'Quantity': '50'},\n",
              " '1013': {'Category': 'Drinks',\n",
              "  'Exp.Date': '22/10/2022',\n",
              "  'Name': 'Sprit',\n",
              "  'Price': '100',\n",
              "  'Quantity': '50'},\n",
              " '1014': {'Category': 'Drinks',\n",
              "  'Exp.Date': '22/10/2022',\n",
              "  'Name': 'Slice',\n",
              "  'Price': '100',\n",
              "  'Quantity': '50'},\n",
              " '1015': {'Category': 'Drinks',\n",
              "  'Exp.Date': '22/10/2022',\n",
              "  'Name': 'Apple-Fizz',\n",
              "  'Price': '100',\n",
              "  'Quantity': '50'},\n",
              " '1016': {'Category': 'Chocolate',\n",
              "  'Exp.Date': '22/10/2022',\n",
              "  'Name': 'Milkybar',\n",
              "  'Price': '45',\n",
              "  'Quantity': '50'},\n",
              " '1017': {'Category': 'Chocolate',\n",
              "  'Exp.Date': '22/10/2022',\n",
              "  'Name': 'Dairy Milk',\n",
              "  'Price': '35',\n",
              "  'Quantity': '50'},\n",
              " '1018': {'Category': 'Chocolate',\n",
              "  'Exp.Date': '22/11/2022',\n",
              "  'Name': '5Star',\n",
              "  'Price': '45',\n",
              "  'Quantity': '50'},\n",
              " '1019': {'Category': 'Chocolate',\n",
              "  'Exp.Date': '20/12/2022',\n",
              "  'Name': 'Munch',\n",
              "  'Price': '25',\n",
              "  'Quantity': '50'},\n",
              " '1020': {'Category': 'Chocolate',\n",
              "  'Exp.Date': '04/01/2022',\n",
              "  'Name': 'Melody',\n",
              "  'Price': '35',\n",
              "  'Quantity': '50'},\n",
              " '1021': {'Category': 'Chocolate',\n",
              "  'Exp.Date': '06/09/2022',\n",
              "  'Name': 'Mango Bite',\n",
              "  'Price': '50',\n",
              "  'Quantity': '50'},\n",
              " '1022': {'Category': 'Chocolate',\n",
              "  'Exp.Date': '01/04/2022',\n",
              "  'Name': 'Kinder Joy',\n",
              "  'Price': '45',\n",
              "  'Quantity': '50'},\n",
              " '1023': {'Category': 'Snacks',\n",
              "  'Exp.Date': '02/03/2022',\n",
              "  'Name': 'Lays',\n",
              "  'Price': '70',\n",
              "  'Quantity': '50'},\n",
              " '1024': {'Category': 'Snacks',\n",
              "  'Exp.Date': '20/04/2022',\n",
              "  'Name': 'Kurkure',\n",
              "  'Price': '30',\n",
              "  'Quantity': '50'},\n",
              " '1025': {'Category': 'Snacks',\n",
              "  'Exp.Date': '22/10/2021',\n",
              "  'Name': 'Bingo',\n",
              "  'Price': '70',\n",
              "  'Quantity': '50'},\n",
              " '1026': {'Category': 'Snacks',\n",
              "  'Exp.Date': '09/09/2021',\n",
              "  'Name': 'Rings',\n",
              "  'Price': '90',\n",
              "  'Quantity': '50'},\n",
              " '1027': {'Category': 'Snacks',\n",
              "  'Exp.Date': '01/10/2022',\n",
              "  'Name': 'Cheetos',\n",
              "  'Price': '90',\n",
              "  'Quantity': '50'},\n",
              " '1028': {'Category': 'Snacks',\n",
              "  'Exp.Date': '09/10/2022',\n",
              "  'Name': 'Yumitos',\n",
              "  'Price': '40',\n",
              "  'Quantity': '50'},\n",
              " '1029': {'Category': 'Snacks',\n",
              "  'Exp.Date': '04/10/2022',\n",
              "  'Name': 'Nachos',\n",
              "  'Price': '30',\n",
              "  'Quantity': '50'},\n",
              " '1030': {'Category': 'Snacks',\n",
              "  'Exp.Date': '01/09/2021',\n",
              "  'Name': 'Doritos',\n",
              "  'Price': '20',\n",
              "  'Quantity': '14'},\n",
              " '1031': {'Category': 'Biscuit',\n",
              "  'Name': 'Cookie',\n",
              "  'Price': 48,\n",
              "  'Quantity': 25},\n",
              " '1032': {'Category': 'Drinks',\n",
              "  'Name': 'coco cola',\n",
              "  'Price': 30,\n",
              "  'Quantity': 20}}"
            ]
          },
          "metadata": {},
          "execution_count": 43
        }
      ]
    },
    {
      "cell_type": "code",
      "metadata": {
        "id": "lZyA8BgWfSta"
      },
      "source": [
        "sales={}\n",
        "sales.update(bill)"
      ],
      "execution_count": 32,
      "outputs": []
    },
    {
      "cell_type": "code",
      "metadata": {
        "colab": {
          "base_uri": "https://localhost:8080/"
        },
        "id": "6D_ru-1yfPTO",
        "outputId": "364d27f5-9ac6-4050-d005-a7fb6630920f"
      },
      "source": [
        "sales"
      ],
      "execution_count": 33,
      "outputs": [
        {
          "output_type": "execute_result",
          "data": {
            "text/plain": [
              "{'Name': 'Ahaan', 'Time': 'Sun Sep  5 15:03:30 2021', 'Total Amount': '240'}"
            ]
          },
          "metadata": {},
          "execution_count": 33
        }
      ]
    },
    {
      "cell_type": "code",
      "metadata": {
        "colab": {
          "base_uri": "https://localhost:8080/",
          "height": 35
        },
        "id": "W53UbHTKhYVO",
        "outputId": "76f5f576-8087-4ca3-bf7a-cde783c9a6e6"
      },
      "source": [
        "js1 = json.dumps(sales)\n",
        "js1"
      ],
      "execution_count": 34,
      "outputs": [
        {
          "output_type": "execute_result",
          "data": {
            "application/vnd.google.colaboratory.intrinsic+json": {
              "type": "string"
            },
            "text/plain": [
              "'{\"Name\": \"Ahaan\", \"Time\": \"Sun Sep  5 15:03:30 2021\", \"Total Amount\": \"240\"}'"
            ]
          },
          "metadata": {},
          "execution_count": 34
        }
      ]
    },
    {
      "cell_type": "code",
      "metadata": {
        "id": "qq5kGOdmhe8O"
      },
      "source": [
        "fd1 = open(\"sales.json\",'w')\n",
        "fd1.write(js1)\n",
        "fd1.close()"
      ],
      "execution_count": 36,
      "outputs": []
    },
    {
      "cell_type": "code",
      "metadata": {
        "id": "6x0hWi5YhozR"
      },
      "source": [
        "fd1 = open(\"sales.json\",'r')\n",
        "txt2 = fd1.read()\n",
        "fd1.close()"
      ],
      "execution_count": 37,
      "outputs": []
    },
    {
      "cell_type": "code",
      "metadata": {
        "colab": {
          "base_uri": "https://localhost:8080/",
          "height": 35
        },
        "id": "ocESFgYChthB",
        "outputId": "86dda425-a945-455b-d6f5-44414f8c543f"
      },
      "source": [
        "txt2"
      ],
      "execution_count": 38,
      "outputs": [
        {
          "output_type": "execute_result",
          "data": {
            "application/vnd.google.colaboratory.intrinsic+json": {
              "type": "string"
            },
            "text/plain": [
              "'{\"Name\": \"Ahaan\", \"Time\": \"Sun Sep  5 15:03:30 2021\", \"Total Amount\": \"240\"}'"
            ]
          },
          "metadata": {},
          "execution_count": 38
        }
      ]
    },
    {
      "cell_type": "code",
      "metadata": {
        "id": "GQBEGsY2hyH_"
      },
      "source": [
        "sales=json.loads(txt2)"
      ],
      "execution_count": 39,
      "outputs": []
    },
    {
      "cell_type": "code",
      "metadata": {
        "colab": {
          "base_uri": "https://localhost:8080/"
        },
        "id": "iF43-dawh8LP",
        "outputId": "985e8066-53e0-4318-a95c-c388a4f46650"
      },
      "source": [
        "sales"
      ],
      "execution_count": 40,
      "outputs": [
        {
          "output_type": "execute_result",
          "data": {
            "text/plain": [
              "{'Name': 'Ahaan', 'Time': 'Sun Sep  5 15:03:30 2021', 'Total Amount': '240'}"
            ]
          },
          "metadata": {},
          "execution_count": 40
        }
      ]
    },
    {
      "cell_type": "code",
      "metadata": {
        "id": "02KKyD2Hi9IW"
      },
      "source": [
        ""
      ],
      "execution_count": null,
      "outputs": []
    }
  ]
}